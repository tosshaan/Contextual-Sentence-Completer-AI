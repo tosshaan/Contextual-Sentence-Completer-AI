{
 "cells": [
  {
   "cell_type": "code",
   "execution_count": 15,
   "metadata": {},
   "outputs": [],
   "source": [
    "import pandas as pd\n",
    "from collections import defaultdict\n",
    "import string"
   ]
  },
  {
   "cell_type": "markdown",
   "metadata": {},
   "source": [
    "# Importing data"
   ]
  },
  {
   "cell_type": "code",
   "execution_count": 16,
   "metadata": {},
   "outputs": [],
   "source": [
    "data = pd.read_csv('bbc-text.csv')"
   ]
  },
  {
   "cell_type": "code",
   "execution_count": 32,
   "metadata": {},
   "outputs": [
    {
     "data": {
      "text/html": [
       "<div>\n",
       "<style scoped>\n",
       "    .dataframe tbody tr th:only-of-type {\n",
       "        vertical-align: middle;\n",
       "    }\n",
       "\n",
       "    .dataframe tbody tr th {\n",
       "        vertical-align: top;\n",
       "    }\n",
       "\n",
       "    .dataframe thead th {\n",
       "        text-align: right;\n",
       "    }\n",
       "</style>\n",
       "<table border=\"1\" class=\"dataframe\">\n",
       "  <thead>\n",
       "    <tr style=\"text-align: right;\">\n",
       "      <th></th>\n",
       "      <th>category</th>\n",
       "      <th>text</th>\n",
       "    </tr>\n",
       "  </thead>\n",
       "  <tbody>\n",
       "    <tr>\n",
       "      <th>0</th>\n",
       "      <td>tech</td>\n",
       "      <td>tv future in the hands of viewers with home th...</td>\n",
       "    </tr>\n",
       "    <tr>\n",
       "      <th>1</th>\n",
       "      <td>business</td>\n",
       "      <td>worldcom boss  left books alone  former worldc...</td>\n",
       "    </tr>\n",
       "    <tr>\n",
       "      <th>2</th>\n",
       "      <td>sport</td>\n",
       "      <td>tigers wary of farrell  gamble  leicester say ...</td>\n",
       "    </tr>\n",
       "    <tr>\n",
       "      <th>3</th>\n",
       "      <td>sport</td>\n",
       "      <td>yeading face newcastle in fa cup premiership s...</td>\n",
       "    </tr>\n",
       "    <tr>\n",
       "      <th>4</th>\n",
       "      <td>entertainment</td>\n",
       "      <td>ocean s twelve raids box office ocean s twelve...</td>\n",
       "    </tr>\n",
       "  </tbody>\n",
       "</table>\n",
       "</div>"
      ],
      "text/plain": [
       "        category                                               text\n",
       "0           tech  tv future in the hands of viewers with home th...\n",
       "1       business  worldcom boss  left books alone  former worldc...\n",
       "2          sport  tigers wary of farrell  gamble  leicester say ...\n",
       "3          sport  yeading face newcastle in fa cup premiership s...\n",
       "4  entertainment  ocean s twelve raids box office ocean s twelve..."
      ]
     },
     "execution_count": 32,
     "metadata": {},
     "output_type": "execute_result"
    }
   ],
   "source": [
    "data.head()"
   ]
  },
  {
   "cell_type": "code",
   "execution_count": 40,
   "metadata": {},
   "outputs": [
    {
     "name": "stdout",
     "output_type": "stream",
     "text": [
      ",\n"
     ]
    }
   ],
   "source": [
    "for word in 'Parts of the population are asking the government to control immigration However, it is also important to keep in mind the human rights of the refugees'.lower():\n",
    "    isPresent = 0\n",
    "    for text in data.text.values:\n",
    "        if not word in text:\n",
    "            isPresent += 1\n",
    "    if isPresent == data.text.size:\n",
    "        print(word)"
   ]
  },
  {
   "cell_type": "code",
   "execution_count": null,
   "metadata": {},
   "outputs": [],
   "source": []
  },
  {
   "cell_type": "markdown",
   "metadata": {},
   "source": [
    "# Getting all words"
   ]
  },
  {
   "cell_type": "code",
   "execution_count": 18,
   "metadata": {},
   "outputs": [],
   "source": [
    "punctuation = set(string.punctuation)\n",
    "wordCount = defaultdict(int)\n",
    "bigramCount = defaultdict(int)\n",
    "trigramCount = defaultdict(int)\n",
    "fourgramCount = defaultdict(int)\n",
    "fivegramCount = defaultdict(int)\n",
    "i = 0\n",
    "for text in data.text.values:\n",
    "    r = ''.join([c for c in text if c not in punctuation])\n",
    "    words = r.split()\n",
    "    for i in range(0, len(words)):\n",
    "        wordCount[words[i]] += 1\n",
    "        if i < len(words)-1:\n",
    "            bigramCount[f'{words[i]} {words[i+1]}'] += 1\n",
    "        if i < len(words)-2:\n",
    "            trigramCount[f'{words[i]} {words[i+1]} {words[i+2]}'] += 1\n",
    "        if i < len(words)-3:\n",
    "            fourgramCount[f'{words[i]} {words[i+1]} {words[i+2]} {words[i+3]}'] += 1\n",
    "        if i < len(words)-4:\n",
    "            fivegramCount[f'{words[i]} {words[i+1]} {words[i+2]} {words[i+3]} {words[i+4]}'] += 1"
   ]
  },
  {
   "cell_type": "code",
   "execution_count": 19,
   "metadata": {},
   "outputs": [],
   "source": [
    "wordIndices = defaultdict()\n",
    "i = 0\n",
    "for word in wordCount:\n",
    "    if word not in wordIndices:\n",
    "        wordIndices[word] = i\n",
    "        i += 1"
   ]
  },
  {
   "cell_type": "code",
   "execution_count": 20,
   "metadata": {},
   "outputs": [],
   "source": [
    "wordsVector = ['']*len(wordCount)\n",
    "wordsF = open(\"general/words.txt\", 'w')\n",
    "for word in wordIndices:\n",
    "    wordsVector[wordIndices[word]] = word\n",
    "    wordsF.write(word)\n",
    "    wordsF.write('\\n')\n",
    "wordsF.close()"
   ]
  },
  {
   "cell_type": "markdown",
   "metadata": {},
   "source": [
    "# Getting all unigrams"
   ]
  },
  {
   "cell_type": "code",
   "execution_count": 21,
   "metadata": {},
   "outputs": [],
   "source": [
    "unigram = [0]*len(wordIndices)\n",
    "for word in wordCount:\n",
    "    index = wordIndices[word]\n",
    "    unigram[index] = wordCount[word]"
   ]
  },
  {
   "cell_type": "markdown",
   "metadata": {},
   "source": [
    "# Getting all bigrams"
   ]
  },
  {
   "cell_type": "code",
   "execution_count": 22,
   "metadata": {},
   "outputs": [],
   "source": [
    "bigram = []\n",
    "for b in bigramCount:\n",
    "    words = b.split()\n",
    "    bigram.append([wordIndices[words[0]], wordIndices[words[1]], bigramCount[b]])"
   ]
  },
  {
   "cell_type": "markdown",
   "metadata": {},
   "source": [
    "# Getting all trigrams"
   ]
  },
  {
   "cell_type": "code",
   "execution_count": 23,
   "metadata": {},
   "outputs": [],
   "source": [
    "trigram = []\n",
    "for t in trigramCount:\n",
    "    words = t.split()\n",
    "    trigram.append([wordIndices[words[0]], wordIndices[words[1]], \\\n",
    "                    wordIndices[words[2]], trigramCount[t]])"
   ]
  },
  {
   "cell_type": "markdown",
   "metadata": {},
   "source": [
    "# Getting all four-grams"
   ]
  },
  {
   "cell_type": "code",
   "execution_count": 24,
   "metadata": {},
   "outputs": [],
   "source": [
    "fourgram = []\n",
    "for f in fourgramCount:\n",
    "    words = f.split()\n",
    "    fourgram.append([wordIndices[words[0]], wordIndices[words[1]], \\\n",
    "                     wordIndices[words[2]], wordIndices[words[3]], \\\n",
    "                     fourgramCount[f]])"
   ]
  },
  {
   "cell_type": "markdown",
   "metadata": {},
   "source": [
    "# Getting all five-grams"
   ]
  },
  {
   "cell_type": "code",
   "execution_count": 25,
   "metadata": {},
   "outputs": [],
   "source": [
    "fivegram = []\n",
    "for f in fivegramCount:\n",
    "    words = f.split()\n",
    "    fivegram.append([wordIndices[words[0]], wordIndices[words[1]], \\\n",
    "                     wordIndices[words[2]], wordIndices[words[3]], \\\n",
    "                     wordIndices[words[4]], fivegramCount[f]])"
   ]
  },
  {
   "cell_type": "markdown",
   "metadata": {},
   "source": [
    "# Saving files"
   ]
  },
  {
   "cell_type": "code",
   "execution_count": 75,
   "metadata": {},
   "outputs": [],
   "source": [
    "uniF = open(\"general/unigrams.txt\", 'w')\n",
    "for l in unigram:\n",
    "    uniF.write(f\"{l}\\n\")\n",
    "uniF.close()"
   ]
  },
  {
   "cell_type": "code",
   "execution_count": 80,
   "metadata": {},
   "outputs": [],
   "source": [
    "biF = open(\"general/bigrams.txt\", 'w')\n",
    "for l in bigram:\n",
    "    for value in l:\n",
    "        biF.write(str(value) + ' ')\n",
    "    biF.write('\\n')\n",
    "biF.close()"
   ]
  },
  {
   "cell_type": "code",
   "execution_count": 81,
   "metadata": {},
   "outputs": [],
   "source": [
    "triF = open(\"general/trigrams.txt\", 'w')\n",
    "for l in trigram:\n",
    "    for value in l:\n",
    "        triF.write(str(value) + ' ')\n",
    "    triF.write('\\n')\n",
    "triF.close()"
   ]
  },
  {
   "cell_type": "code",
   "execution_count": 82,
   "metadata": {},
   "outputs": [],
   "source": [
    "fourF = open(\"general/fourgrams.txt\", 'w')\n",
    "for l in fourgram:\n",
    "    for value in l:\n",
    "        fourF.write(str(value) + ' ')\n",
    "    fourF.write('\\n')\n",
    "fourF.close()"
   ]
  },
  {
   "cell_type": "code",
   "execution_count": 83,
   "metadata": {},
   "outputs": [],
   "source": [
    "fiveF = open(\"general/fivegrams.txt\", 'w')\n",
    "for l in fivegram:\n",
    "    for value in l:\n",
    "        fiveF.write(str(value) + ' ')\n",
    "    fiveF.write('\\n')\n",
    "fiveF.close()"
   ]
  },
  {
   "cell_type": "markdown",
   "metadata": {},
   "source": [
    "## Saving n-grams counts for each category"
   ]
  },
  {
   "cell_type": "code",
   "execution_count": 32,
   "metadata": {},
   "outputs": [],
   "source": [
    "for category in data.category.unique():\n",
    "    wordCount = defaultdict(int)\n",
    "    bigramCount = defaultdict(int)\n",
    "    trigramCount = defaultdict(int)\n",
    "    fourgramCount = defaultdict(int)\n",
    "    fivegramCount = defaultdict(int)\n",
    "    i = 0\n",
    "    \n",
    "    # Getting n-grams counts\n",
    "    for text in data.loc[data.category == category].text.values:\n",
    "        r = ''.join([c for c in text if c not in punctuation])\n",
    "        words = r.split()\n",
    "        for i in range(0, len(words)):\n",
    "            wordCount[words[i]] += 1\n",
    "            if i < len(words)-1:\n",
    "                bigramCount[f'{words[i]} {words[i+1]}'] += 1\n",
    "            if i < len(words)-2:\n",
    "                trigramCount[f'{words[i]} {words[i+1]} {words[i+2]}'] += 1\n",
    "            if i < len(words)-3:\n",
    "                fourgramCount[f'{words[i]} {words[i+1]} {words[i+2]} {words[i+3]}'] += 1\n",
    "            if i < len(words)-4:\n",
    "                fivegramCount[f'{words[i]} {words[i+1]} {words[i+2]} {words[i+3]} {words[i+4]}'] += 1\n",
    "    \n",
    "    # getting all unigrams and saving them to file\n",
    "    unigram = [0]*len(wordIndices)\n",
    "    for word in wordCount:\n",
    "        index = wordIndices[word]\n",
    "        unigram[index] = wordCount[word]\n",
    "        \n",
    "    uniF = open(f\"{category}/{category}_unigrams.txt\", 'w')\n",
    "    for l in unigram:\n",
    "        uniF.write(f\"{l}\\n\")\n",
    "    uniF.close()\n",
    "    \n",
    "    # getting all bigrams and saving them to file\n",
    "    bigram = []\n",
    "    for b in bigramCount:\n",
    "        words = b.split()\n",
    "        bigram.append([wordIndices[words[0]], wordIndices[words[1]], bigramCount[b]])\n",
    "        \n",
    "    biF = open(f\"{category}/{category}_bigrams.txt\", 'w')\n",
    "    for l in bigram:\n",
    "        for value in l:\n",
    "            biF.write(str(value) + ' ')\n",
    "        biF.write('\\n')\n",
    "    biF.close()\n",
    "        \n",
    "    # getting all trigrams and saving them to file\n",
    "    trigram = []\n",
    "    for t in trigramCount:\n",
    "        words = t.split()\n",
    "        trigram.append([wordIndices[words[0]], wordIndices[words[1]], \\\n",
    "                        wordIndices[words[2]], trigramCount[t]])\n",
    "\n",
    "    triF = open(f\"{category}/{category}_trigrams.txt\", 'w')\n",
    "    for l in trigram:\n",
    "        for value in l:\n",
    "            triF.write(str(value) + ' ')\n",
    "        triF.write('\\n')\n",
    "    triF.close()\n",
    "    \n",
    "    # getting all fourgrams and saving them to file\n",
    "    fourgram = []\n",
    "    for f in fourgramCount:\n",
    "        words = f.split()\n",
    "        fourgram.append([wordIndices[words[0]], wordIndices[words[1]], \\\n",
    "                         wordIndices[words[2]], wordIndices[words[3]], \\\n",
    "                         fourgramCount[f]])\n",
    "    \n",
    "    fourF = open(f\"{category}/{category}_fourgrams.txt\", 'w')\n",
    "    for l in fourgram:\n",
    "        for value in l:\n",
    "            fourF.write(str(value) + ' ')\n",
    "        fourF.write('\\n')\n",
    "    fourF.close()\n",
    "        \n",
    "    # getting all fivegrams and saving them to file\n",
    "    fivegram = []\n",
    "    for f in fivegramCount:\n",
    "        words = f.split()\n",
    "        fivegram.append([wordIndices[words[0]], wordIndices[words[1]], \\\n",
    "                         wordIndices[words[2]], wordIndices[words[3]], \\\n",
    "                         wordIndices[words[4]], fivegramCount[f]])\n",
    "        \n",
    "    fiveF = open(f\"{category}/{category}_fivegrams.txt\", 'w')\n",
    "    for l in fivegram:\n",
    "        for value in l:\n",
    "            fiveF.write(str(value) + ' ')\n",
    "        fiveF.write('\\n')\n",
    "    fiveF.close()"
   ]
  },
  {
   "cell_type": "code",
   "execution_count": 31,
   "metadata": {},
   "outputs": [
    {
     "data": {
      "text/plain": [
       "sport            511\n",
       "business         510\n",
       "politics         417\n",
       "tech             401\n",
       "entertainment    386\n",
       "Name: category, dtype: int64"
      ]
     },
     "execution_count": 31,
     "metadata": {},
     "output_type": "execute_result"
    }
   ],
   "source": [
    "data.category.value_counts()"
   ]
  },
  {
   "cell_type": "code",
   "execution_count": null,
   "metadata": {},
   "outputs": [],
   "source": []
  }
 ],
 "metadata": {
  "kernelspec": {
   "display_name": "Python 3",
   "language": "python",
   "name": "python3"
  }
 },
 "nbformat": 4,
 "nbformat_minor": 2
}
